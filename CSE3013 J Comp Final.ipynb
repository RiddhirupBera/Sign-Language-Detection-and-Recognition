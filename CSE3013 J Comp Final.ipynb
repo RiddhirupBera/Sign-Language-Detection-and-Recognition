{
 "cells": [
  {
   "cell_type": "markdown",
   "id": "d9217a1d",
   "metadata": {},
   "source": [
    "# CSE3013 J Component\n",
    "# Detection and Recognition of Sign Language\n",
    "### Soham Bhattacharyya (19BCE1199)\n",
    "### Riddhirup Bera (19BCE1169)\n",
    "### Pranjal Singh (19BCE1207)\n",
    "### Avihrik Basak (19BCE1202)\n",
    "### Pranish Shrestha (19BCE1758)"
   ]
  },
  {
   "cell_type": "code",
   "execution_count": 1,
   "id": "5129002c",
   "metadata": {},
   "outputs": [],
   "source": [
    "#works with tensorflow 2.3.0 if keras libraries are imported directly\n",
    "import tensorflow as tf\n",
    "import time\n",
    "from tensorflow import keras\n",
    "from tensorflow.keras.layers import Dense, Activation, Conv2D, MaxPool2D, Flatten, BatchNormalization, Dropout\n",
    "from tensorflow.keras.models import Sequential\n",
    "from tensorflow.keras.optimizers import Adam, SGD, Adagrad # 3 most popular gradient descent functions\n",
    "from tensorflow.keras.metrics import categorical_crossentropy\n",
    "from tensorflow.keras.preprocessing.image import ImageDataGenerator\n",
    "import numpy as np\n",
    "import cv2\n",
    "import re\n",
    "from tensorflow.keras.callbacks import ReduceLROnPlateau\n",
    "from tensorflow.keras.callbacks import ModelCheckpoint, EarlyStopping\n",
    "from tensorflow.keras.models import load_model\n",
    "import warnings\n",
    "warnings.simplefilter(action='ignore', category=FutureWarning)\n",
    "import matplotlib.pyplot as plt\n",
    "from pathlib import Path\n",
    "import os"
   ]
  },
  {
   "cell_type": "code",
   "execution_count": 2,
   "id": "e99cbfe6",
   "metadata": {},
   "outputs": [],
   "source": [
    "# Code for Enter key: 13\n",
    "# Code for Nothing: 255\n",
    "# Code for Escape: 27\n",
    "\n",
    "import winsound\n",
    "frequency = 300  # Set Frequency To 2500 Hertz\n",
    "duration = 1000  # Set Duration To 1000 ms == 1 second\n",
    "\n",
    "background = None\n",
    "alpha = 0.5 \n",
    "'''A lower value for this variable means \n",
    "running average will be performed over a larger amount of \n",
    "previous frames and vice-versa.'''\n",
    "\n",
    "\n",
    "#ROI: Region of interest\n",
    "ROI = {'top':100,'bottom':300,'right':150,'left':350}"
   ]
  },
  {
   "cell_type": "code",
   "execution_count": 3,
   "id": "26ef3a93",
   "metadata": {},
   "outputs": [],
   "source": [
    "def calc_background(frame, alpha):\n",
    "\n",
    "    global background\n",
    "    \n",
    "    if background is None:\n",
    "        background = frame.copy().astype(\"float\")\n",
    "        return None\n",
    "    \n",
    "    '''The objective is to detect active objects from the difference obtained from \n",
    "    the reference frame and the current frame (background). We keep feeding each frame to the accumulateWeighted() function,\n",
    "    and the function keeps finding the averages of all frames. '''\n",
    "    \n",
    "    cv2.accumulateWeighted(frame, background, alpha)"
   ]
  },
  {
   "cell_type": "code",
   "execution_count": 4,
   "id": "7635d511",
   "metadata": {},
   "outputs": [],
   "source": [
    "def detect_hand(frame, threshold=25):\n",
    "    global background\n",
    "    \n",
    "    #absolute difference between hand frame and background frame\n",
    "    abdiff = cv2.absdiff(frame, background.astype(\"uint8\")) \n",
    "    cv2.imshow(\"Difference\", abdiff)\n",
    "    \n",
    "    _ , thresholded = cv2.threshold(abdiff, threshold, 255, cv2.THRESH_BINARY) #if pixel value >threshold, \n",
    "    #255 else 0 (Binary thresholding)\n",
    "\n",
    "    # detects change in the image color and marks it as contour. Detection of hand in front of the background\n",
    "    contours, hierarchy = cv2.findContours(thresholded.copy(), cv2.RETR_EXTERNAL, cv2.CHAIN_APPROX_SIMPLE) \n",
    "    # hierarchy: contains information about image topology; number of elements equal to number of contours\n",
    "\n",
    "    if len(contours) == 0:\n",
    "        return None\n",
    "    else:\n",
    "        #sorts by contour area and finds contour with maximum area\n",
    "        hand_segment_max_cont = max(contours, key=cv2.contourArea) \n",
    "        \n",
    "        return (thresholded, hand_segment_max_cont)"
   ]
  },
  {
   "cell_type": "markdown",
   "id": "b1d0e482",
   "metadata": {},
   "source": [
    "### Collecting images for dataset"
   ]
  },
  {
   "cell_type": "code",
   "execution_count": 9,
   "id": "02de842d",
   "metadata": {
    "scrolled": false
   },
   "outputs": [
    {
     "name": "stdout",
     "output_type": "stream",
     "text": [
      "A\n",
      "B\n",
      "breaking loop\n"
     ]
    }
   ],
   "source": [
    "element = 0 #initialising the element variable where the gesture label will be stored\n",
    "cam = cv2.VideoCapture(0)\n",
    "while True:\n",
    "    \n",
    "    ret, frame = cam.read()\n",
    "\n",
    "    # flipping the frame to prevent inverted image of captured frame\n",
    "    frame = cv2.flip(frame, 1)\n",
    "\n",
    "    frame_copy = frame.copy()\n",
    "    cv2.putText(frame_copy, \"Enter next choice of character\", (0, 400), cv2.FONT_HERSHEY_SIMPLEX, 1, (0,0,255), 2)\n",
    "    cv2.putText(frame_copy, \"Press Escape to exit\", (0, 450), cv2.FONT_HERSHEY_SIMPLEX, 1, (0,0,255), 2)\n",
    "    cv2.imshow(\"Sign Language Image Data Collector\", frame_copy)\n",
    "    num_frames = 0\n",
    "    ele0 = cv2.waitKey(1) & 0xFF\n",
    "    if ele0==27: #break loop for escape\n",
    "        print(\"breaking loop\")\n",
    "        break\n",
    "    element = chr(ele0)\n",
    "    #element = 'A'\n",
    "    num_imgs_taken = 0\n",
    "    print(chr(ele0)) if ele0!=255 else print(end=\"\")\n",
    "    while ele0!=255 and ele0!=13:\n",
    "        ret, frame = cam.read()\n",
    "\n",
    "        # flipping the frame to prevent inverted image of captured frame\n",
    "        frame = cv2.flip(frame, 1)\n",
    "\n",
    "        frame_copy = frame.copy()\n",
    "\n",
    "        roi = frame[ROI['top']:ROI['bottom'], ROI['right']:ROI['left']]\n",
    "\n",
    "        gray_frame = cv2.cvtColor(roi, cv2.COLOR_BGR2GRAY)\n",
    "        gray_frame = cv2.GaussianBlur(gray_frame, (9, 9), 0)\n",
    "\n",
    "        if num_frames < 60:\n",
    "            calc_background(gray_frame, alpha)\n",
    "            cv2.putText(frame_copy, \"Wait while background is being recorded\", (80, 400), cv2.FONT_HERSHEY_SIMPLEX, 0.9, (0,0,255), 2)\n",
    "            \n",
    "        # Placing the hand in the Region of Interest (adjustment allowed till 300 frames)\n",
    "        elif num_frames <= 300: \n",
    "\n",
    "            hand = detect_hand(gray_frame)\n",
    "            \n",
    "            cv2.putText(frame_copy, \"Make gesture for '\"+str(element)+\"'\", (200, 400), cv2.FONT_HERSHEY_SIMPLEX, 1, (0,0,255), 2)\n",
    "            \n",
    "            # Checking if hand is actually detected by counting number of contours detected\n",
    "            if hand is not None:\n",
    "                \n",
    "                thresholded, hand_segment = hand\n",
    "\n",
    "                # Draw contours around hand segment\n",
    "                cv2.drawContours(frame_copy, [hand_segment + (ROI['right'], ROI['top'])], -1, (255, 0, 0),1)\n",
    "                \n",
    "                cv2.putText(frame_copy, str(num_frames)+\" for \" + str(element), (70, 45), cv2.FONT_HERSHEY_SIMPLEX, 1, (0,0,255), 2)\n",
    "\n",
    "                # Also display the thresholded image\n",
    "                cv2.imshow(\"Thresholded Hand Image\", thresholded)\n",
    "        \n",
    "        else: \n",
    "            \n",
    "            # Detecting contours in the hand\n",
    "            hand = detect_hand(gray_frame)\n",
    "            # Checking for hand\n",
    "            if hand is not None:\n",
    "                \n",
    "                # unpack the thresholded img and the max_contour\n",
    "                thresholded, hand_segment = hand\n",
    "\n",
    "                # Drawing contours around hand segment\n",
    "                cv2.drawContours(frame_copy, [hand_segment + (ROI['right'], ROI['top'])], -1, (255, 0, 0),1)\n",
    "                \n",
    "                \n",
    "                cv2.putText(frame_copy, str(num_imgs_taken) + ' images for' + str(element), (200, 400), cv2.FONT_HERSHEY_SIMPLEX, 1, (0,0,255), 2)\n",
    "                \n",
    "                # Displaying the thresholded image\n",
    "                cv2.imshow(\"Thresholded Hand Image\", thresholded)\n",
    "                if num_imgs_taken <= 500:\n",
    "                    cv2.putText(frame_copy, 'Collected '+str(num_imgs_taken)+' training images for' + str(element), (0, 450), cv2.FONT_HERSHEY_SIMPLEX, 1, (0,0,255), 2)\n",
    "#                     Path(\"data2/train/\"+str(element)+\"/\").mkdir(parents=True, exist_ok=True)\n",
    "#                     printed = cv2.imwrite(r\"data2/train/\"+str(element)+\"/\"+str(num_imgs_taken) + '.jpg', thresholded)\n",
    "#                     print(printed,\" img: \",num_imgs_taken ) if not printed else print(end=\"\")\n",
    "                    pass\n",
    "                elif num_imgs_taken<=600:\n",
    "                    cv2.putText(frame_copy, 'Collected '+str(num_imgs_taken)+' testing images for' + str(element), (0, 450), cv2.FONT_HERSHEY_SIMPLEX, 1, (0,0,255), 2)\n",
    "#                     Path(\"data2/test/\"+str(element)+\"/\").mkdir(parents=True, exist_ok=True)\n",
    "#                     printed = cv2.imwrite(r\"data2/test/\"+str(element)+\"/\"+str(num_imgs_taken) + '.jpg', thresholded)\n",
    "#                     print(printed,\" img: \",num_imgs_taken ) if not printed else print(end=\"\")\n",
    "                    pass\n",
    "                else:\n",
    "                    break\n",
    "                num_imgs_taken+=1\n",
    "            else:\n",
    "                cv2.putText(frame_copy, 'No hand detected...', (200, 400), cv2.FONT_HERSHEY_SIMPLEX, 1, (0,0,255), 2)\n",
    "\n",
    "        # Drawing ROI on frame copy\n",
    "        cv2.rectangle(frame_copy, (ROI['left'], ROI['top']), (ROI['right'], ROI['bottom']), (0,255,168), 3)\n",
    "        \n",
    "        cv2.putText(frame_copy, \"CSE3013 J Component - Sign Language Detection & Recognition\", (10, 20), cv2.FONT_ITALIC, 0.5, (51,255,51), 1)\n",
    "        \n",
    "        # increment the number of frames for tracking\n",
    "        num_frames += 1\n",
    "\n",
    "        # Display the frame with segmented hand\n",
    "        cv2.imshow(\"Sign Language Image Data Collector\", frame_copy)\n",
    "\n",
    "        # Closing windows with Escape key\n",
    "        k = cv2.waitKey(1) & 0xFF\n",
    "        if k == 27:\n",
    "            break\n",
    "    \n",
    "\n",
    "    #f = False\n",
    "# Releasing camera & destroying all the windows...\n",
    "cv2.destroyAllWindows()\n",
    "cam.release()"
   ]
  },
  {
   "cell_type": "markdown",
   "id": "eb55d160",
   "metadata": {},
   "source": [
    "### Training CNN with 64 * 64 images"
   ]
  },
  {
   "cell_type": "code",
   "execution_count": 2,
   "id": "b1949d7f",
   "metadata": {},
   "outputs": [
    {
     "name": "stdout",
     "output_type": "stream",
     "text": [
      "Found 12024 images belonging to 24 classes.\n",
      "Found 2400 images belonging to 24 classes.\n"
     ]
    }
   ],
   "source": [
    "train_path = r'data\\train'\n",
    "test_path = r'data\\test'\n",
    "\n",
    "train_batches = ImageDataGenerator(preprocessing_function=tf.keras.applications.vgg16.preprocess_input).flow_from_directory(directory=train_path, target_size=(64,64), class_mode='categorical', batch_size=5,shuffle=True)\n",
    "test_batches = ImageDataGenerator(preprocessing_function=tf.keras.applications.vgg16.preprocess_input).flow_from_directory(directory=test_path, target_size=(64,64), class_mode='categorical', batch_size=5, shuffle=True)\n",
    "\n",
    "imgs, labels = next(train_batches) # returns the next 5 images in the shuffled training dataset"
   ]
  },
  {
   "cell_type": "code",
   "execution_count": 3,
   "id": "4ab55ecd",
   "metadata": {},
   "outputs": [
    {
     "name": "stdout",
     "output_type": "stream",
     "text": [
      "5\n",
      "64\n",
      "64\n",
      "3\n"
     ]
    },
    {
     "name": "stderr",
     "output_type": "stream",
     "text": [
      "Clipping input data to the valid range for imshow with RGB data ([0..1] for floats or [0..255] for integers).\n"
     ]
    },
    {
     "data": {
      "image/png": "[encoded data removed]",
      "text/plain": [
       "<Figure size 432x288 with 1 Axes>"
      ]
     },
     "metadata": {
      "needs_background": "light"
     },
     "output_type": "display_data"
    },
    {
     "name": "stdout",
     "output_type": "stream",
     "text": [
      "24 classes\n"
     ]
    }
   ],
   "source": [
    "import matplotlib.pyplot as plt\n",
    "x = imgs\n",
    "for i in range(imgs.ndim):\n",
    "    print(len(x))\n",
    "    x = x[0]\n",
    "x = imgs[0]\n",
    "fig, ax = plt.subplots()\n",
    "img = cv2.cvtColor(x, cv2.COLOR_BGR2RGB)\n",
    "ax.imshow(img)\n",
    "plt.show()\n",
    "print(len(labels[0]),\"classes\")\n",
    "classes = len(labels[0])"
   ]
  },
  {
   "cell_type": "code",
   "execution_count": 4,
   "id": "745b5e04",
   "metadata": {},
   "outputs": [
    {
     "name": "stderr",
     "output_type": "stream",
     "text": [
      "Clipping input data to the valid range for imshow with RGB data ([0..1] for floats or [0..255] for integers).\n",
      "Clipping input data to the valid range for imshow with RGB data ([0..1] for floats or [0..255] for integers).\n",
      "Clipping input data to the valid range for imshow with RGB data ([0..1] for floats or [0..255] for integers).\n",
      "Clipping input data to the valid range for imshow with RGB data ([0..1] for floats or [0..255] for integers).\n",
      "Clipping input data to the valid range for imshow with RGB data ([0..1] for floats or [0..255] for integers).\n"
     ]
    },
    {
     "data": {
      "image/png": "[encoded data removed]",
      "text/plain": [
       "<Figure size 2160x1440 with 5 Axes>"
      ]
     },
     "metadata": {
      "needs_background": "light"
     },
     "output_type": "display_data"
    },
    {
     "name": "stdout",
     "output_type": "stream",
     "text": [
      "(5, 64, 64, 3)\n",
      "[[0. 0. 0. 0. 0. 0. 0. 0. 0. 0. 0. 0. 0. 0. 1. 0. 0. 0. 0. 0. 0. 0. 0. 0.]\n",
      " [0. 0. 0. 0. 0. 0. 0. 0. 0. 0. 0. 1. 0. 0. 0. 0. 0. 0. 0. 0. 0. 0. 0. 0.]\n",
      " [0. 0. 0. 0. 0. 0. 1. 0. 0. 0. 0. 0. 0. 0. 0. 0. 0. 0. 0. 0. 0. 0. 0. 0.]\n",
      " [0. 0. 0. 0. 0. 0. 0. 0. 0. 0. 0. 0. 0. 0. 0. 0. 0. 0. 0. 0. 0. 1. 0. 0.]\n",
      " [0. 0. 0. 0. 0. 0. 0. 0. 0. 0. 1. 0. 0. 0. 0. 0. 0. 0. 0. 0. 0. 0. 0. 0.]]\n"
     ]
    }
   ],
   "source": [
    "#Plotting the images\n",
    "classes = len(labels[0])\n",
    "def showBatch1(arr):\n",
    "    fig, axes = plt.subplots(1, 5, figsize=(30,20))\n",
    "    axes = axes.flatten()\n",
    "    for img, ax in zip( arr, axes):\n",
    "        img = cv2.cvtColor(img, cv2.COLOR_BGR2RGB)\n",
    "        ax.imshow(img)\n",
    "    plt.tight_layout()\n",
    "    plt.show()\n",
    "\n",
    "\n",
    "showBatch1(imgs)\n",
    "print(imgs.shape)\n",
    "print(labels)"
   ]
  },
  {
   "cell_type": "code",
   "execution_count": 4,
   "id": "c7f52d06",
   "metadata": {},
   "outputs": [],
   "source": [
    "model = Sequential() #initialising a sequential model to store layers of tensors\n",
    "\n",
    "'''Keras Conv2D is a 2D Convolution Layer, this layer creates a convolution kernel that is wind with layers input \n",
    "which helps produce a tensor of outputs.\n",
    "\n",
    "Kernel: In image processing kernel is a convolution matrix or a mask which can be used for blurring, \n",
    "sharpening, embossing, edge detection, and more by doing a convolution between a kernel and an image.'''\n",
    "\n",
    "model.add(Conv2D(activation='relu', input_shape=(64,64,3), filters=32, kernel_size=(3, 3)))\n",
    "model.add(MaxPool2D(pool_size=(2, 2), strides=2))\n",
    "\n",
    "model.add(Conv2D(activation='relu', padding = 'same',filters=64, kernel_size=(3, 3)))\n",
    "model.add(MaxPool2D(pool_size=(2, 2), strides=2))\n",
    "\n",
    "model.add(Conv2D(activation='relu', padding = 'valid',filters=128, kernel_size=(3, 3) ))\n",
    "model.add(MaxPool2D(pool_size=(2, 2), strides=2))\n",
    "\n",
    "model.add(Flatten())\n",
    "\n",
    "model.add(Dense(64,activation =\"relu\"))\n",
    "model.add(Dense(128,activation =\"relu\"))\n",
    "#model.add(Dropout(0.2))\n",
    "model.add(Dense(128,activation =\"relu\"))\n",
    "#model.add(Dropout(0.3))\n",
    "model.add(Dense(24,activation =\"softmax\"))"
   ]
  },
  {
   "cell_type": "markdown",
   "id": "efec5ad9",
   "metadata": {},
   "source": [
    "#### Adam gradient descent\n",
    "\n",
    "Validation accuracy: 96.42%\n",
    "6 epochs"
   ]
  },
  {
   "cell_type": "code",
   "execution_count": 10,
   "id": "d8c9add1",
   "metadata": {},
   "outputs": [
    {
     "name": "stdout",
     "output_type": "stream",
     "text": [
      "Epoch 1/6\n",
      "1203/1203 [==============================] - 326s 271ms/step - loss: 0.2218 - accuracy: 0.9618 - val_loss: 0.3758 - val_accuracy: 0.9371\n",
      "Epoch 2/6\n",
      "1203/1203 [==============================] - 65s 54ms/step - loss: 0.0878 - accuracy: 0.9837 - val_loss: 0.7718 - val_accuracy: 0.9125\n",
      "Epoch 3/6\n",
      "1203/1203 [==============================] - 70s 58ms/step - loss: 0.0017 - accuracy: 0.9998 - val_loss: 0.1368 - val_accuracy: 0.9567\n",
      "Epoch 4/6\n",
      "1203/1203 [==============================] - 70s 58ms/step - loss: 4.4047e-04 - accuracy: 1.0000 - val_loss: 0.1337 - val_accuracy: 0.9621\n",
      "Epoch 5/6\n",
      "1203/1203 [==============================] - 73s 61ms/step - loss: 3.2032e-04 - accuracy: 1.0000 - val_loss: 0.1273 - val_accuracy: 0.9658\n",
      "Epoch 6/6\n",
      "1203/1203 [==============================] - 68s 56ms/step - loss: 6.3842e-05 - accuracy: 1.0000 - val_loss: 0.1281 - val_accuracy: 0.9642\n",
      "loss of 0.0025481190532445908; accuracy of 100.0%\n"
     ]
    }
   ],
   "source": [
    "model.compile(optimizer=Adam(learning_rate=0.001), loss='categorical_crossentropy', metrics=['accuracy'])\n",
    "reduce_lr = ReduceLROnPlateau(monitor='val_loss', factor=0.2, patience=1, min_lr=0.0001)\n",
    "early_stop = EarlyStopping(monitor='val_loss', min_delta=0, patience=2, verbose=0, mode='auto')\n",
    "\n",
    "history2 = model.fit(train_batches, epochs=6, callbacks=[reduce_lr, early_stop],  validation_data = test_batches)#, checkpoint])\n",
    "imgs, labels = next(train_batches) # For getting next batch of imgs...\n",
    "\n",
    "imgs, labels = next(test_batches) # For getting next batch of imgs...\n",
    "scores = model.evaluate(imgs, labels, verbose=0)\n",
    "print(f'{model.metrics_names[0]} of {scores[0]}; {model.metrics_names[1]} of {scores[1]*100}%')\n"
   ]
  },
  {
   "cell_type": "markdown",
   "id": "356e7dab",
   "metadata": {},
   "source": [
    "#### SGD gradient descent\n",
    "\n",
    "Validation accuracy: 96.71%, 3 epochs"
   ]
  },
  {
   "cell_type": "code",
   "execution_count": 12,
   "id": "59368721",
   "metadata": {},
   "outputs": [
    {
     "name": "stdout",
     "output_type": "stream",
     "text": [
      "Epoch 1/6\n",
      "1203/1203 [==============================] - 63s 52ms/step - loss: 0.3119 - accuracy: 0.9384 - val_loss: 0.0695 - val_accuracy: 0.9729\n",
      "Epoch 2/6\n",
      "1203/1203 [==============================] - 67s 56ms/step - loss: 0.0024 - accuracy: 0.9998 - val_loss: 0.0956 - val_accuracy: 0.9658\n",
      "Epoch 3/6\n",
      "1203/1203 [==============================] - 67s 56ms/step - loss: 9.5415e-04 - accuracy: 1.0000 - val_loss: 0.0973 - val_accuracy: 0.9671\n",
      "loss of 0.0018245566170662642; accuracy of 100.0%\n"
     ]
    }
   ],
   "source": [
    "model.compile(optimizer=SGD(learning_rate=0.001), loss='categorical_crossentropy', metrics=['accuracy'])\n",
    "reduce_lr = ReduceLROnPlateau(monitor='val_loss', factor=0.2, patience=1, min_lr=0.0005)\n",
    "early_stop = EarlyStopping(monitor='val_loss', min_delta=0, patience=2, verbose=0, mode='auto')\n",
    "\n",
    "\n",
    "history2 = model.fit(train_batches, epochs=6, callbacks=[reduce_lr, early_stop],  validation_data = test_batches)#, checkpoint])\n",
    "imgs, labels = next(train_batches) # For getting next batch of imgs...\n",
    "\n",
    "imgs, labels = next(test_batches) # For getting next batch of imgs...\n",
    "scores = model.evaluate(imgs, labels, verbose=0)\n",
    "print(f'{model.metrics_names[0]} of {scores[0]}; {model.metrics_names[1]} of {scores[1]*100}%')"
   ]
  },
  {
   "cell_type": "markdown",
   "id": "5c40e9d5",
   "metadata": {},
   "source": [
    "#### Adagrad gradient descent\n",
    "\n",
    "Validation accuracy: 95.79%, 6 epochs"
   ]
  },
  {
   "cell_type": "code",
   "execution_count": 15,
   "id": "1b5fef67",
   "metadata": {},
   "outputs": [
    {
     "name": "stdout",
     "output_type": "stream",
     "text": [
      "Epoch 1/6\n",
      "1203/1203 [==============================] - 61s 51ms/step - loss: 0.2836 - accuracy: 0.9456 - val_loss: 0.1660 - val_accuracy: 0.9538\n",
      "Epoch 2/6\n",
      "1203/1203 [==============================] - 66s 55ms/step - loss: 0.0048 - accuracy: 0.9993 - val_loss: 0.1503 - val_accuracy: 0.9513\n",
      "Epoch 3/6\n",
      "1203/1203 [==============================] - 66s 55ms/step - loss: 0.0022 - accuracy: 1.0000 - val_loss: 0.1345 - val_accuracy: 0.9571\n",
      "Epoch 4/6\n",
      "1203/1203 [==============================] - 66s 55ms/step - loss: 0.0012 - accuracy: 1.0000 - val_loss: 0.1277 - val_accuracy: 0.9571\n",
      "Epoch 5/6\n",
      "1203/1203 [==============================] - 66s 55ms/step - loss: 8.2463e-04 - accuracy: 1.0000 - val_loss: 0.1243 - val_accuracy: 0.9583\n",
      "Epoch 6/6\n",
      "1203/1203 [==============================] - 67s 55ms/step - loss: 6.2254e-04 - accuracy: 1.0000 - val_loss: 0.1265 - val_accuracy: 0.9579\n",
      "loss of 0.0007578865042887628; accuracy of 100.0%\n"
     ]
    }
   ],
   "source": [
    "from keras.optimizers import Adagrad\n",
    "model1 = tf.keras.models.clone_model(\n",
    "    model, input_tensors=None, clone_function=None\n",
    ")\n",
    "model1.compile(optimizer=Adagrad(learning_rate=0.001), loss='categorical_crossentropy', metrics=['accuracy'])\n",
    "reduce_lr = ReduceLROnPlateau(monitor='val_loss', factor=0.2, patience=1, min_lr=0.0005)\n",
    "early_stop = EarlyStopping(monitor='val_loss', min_delta=0, patience=2, verbose=0, mode='auto')\n",
    "\n",
    "\n",
    "history2 = model1.fit(train_batches, epochs=6, callbacks=[reduce_lr, early_stop],  validation_data = test_batches)#, checkpoint])\n",
    "imgs, labels = next(train_batches) # For getting next batch of imgs...\n",
    "\n",
    "imgs, labels = next(test_batches) # For getting next batch of imgs...\n",
    "scores = model1.evaluate(imgs, labels, verbose=0)\n",
    "print(f'{model1.metrics_names[0]} of {scores[0]}; {model1.metrics_names[1]} of {scores[1]*100}%')"
   ]
  },
  {
   "cell_type": "markdown",
   "id": "d3b8f4a4",
   "metadata": {},
   "source": [
    "#### SGD gradient descent \n",
    "Validation accuracy: 94.29%, 5 epochs"
   ]
  },
  {
   "cell_type": "code",
   "execution_count": 5,
   "id": "ec7e55ca",
   "metadata": {},
   "outputs": [
    {
     "name": "stdout",
     "output_type": "stream",
     "text": [
      "Epoch 1/10\n",
      "1203/1203 [==============================] - 343s 285ms/step - loss: 0.3556 - accuracy: 0.9120 - val_loss: 0.2789 - val_accuracy: 0.9388\n",
      "Epoch 2/10\n",
      "1203/1203 [==============================] - 66s 55ms/step - loss: 0.0014 - accuracy: 1.0000 - val_loss: 0.2649 - val_accuracy: 0.9429\n",
      "Epoch 3/10\n",
      "1203/1203 [==============================] - 68s 56ms/step - loss: 6.0521e-04 - accuracy: 1.0000 - val_loss: 0.2620 - val_accuracy: 0.9429\n",
      "Epoch 4/10\n",
      "1203/1203 [==============================] - 73s 61ms/step - loss: 3.9687e-04 - accuracy: 1.0000 - val_loss: 0.2694 - val_accuracy: 0.9421\n",
      "Epoch 5/10\n",
      "1203/1203 [==============================] - 76s 63ms/step - loss: 3.0564e-04 - accuracy: 1.0000 - val_loss: 0.2663 - val_accuracy: 0.9429\n",
      "loss of 0.02056077867746353; accuracy of 100.0%\n"
     ]
    }
   ],
   "source": [
    "model.compile(optimizer=SGD(learning_rate=0.001), loss='categorical_crossentropy', metrics=['accuracy'])\n",
    "reduce_lr = ReduceLROnPlateau(monitor='val_loss', factor=0.2, patience=1, min_lr=0.0005)\n",
    "early_stop = EarlyStopping(monitor='val_loss', min_delta=0, patience=2, verbose=0, mode='auto')\n",
    "\n",
    "\n",
    "history2 = model.fit(train_batches, epochs=10, callbacks=[reduce_lr, early_stop],  validation_data = test_batches)#, checkpoint])\n",
    "imgs, labels = next(train_batches) # For getting next batch of imgs...\n",
    "\n",
    "imgs, labels = next(test_batches) # For getting next batch of imgs...\n",
    "scores = model.evaluate(imgs, labels, verbose=0)\n",
    "print(f'{model.metrics_names[0]} of {scores[0]}; {model.metrics_names[1]} of {scores[1]*100}%')"
   ]
  },
  {
   "cell_type": "code",
   "execution_count": 6,
   "id": "e2008942",
   "metadata": {},
   "outputs": [],
   "source": [
    "#model.save('cse4020_CNN.h5')"
   ]
  },
  {
   "cell_type": "markdown",
   "id": "1ffcf539",
   "metadata": {},
   "source": [
    "### Training CNN with 128 * 128 pixel images "
   ]
  },
  {
   "cell_type": "code",
   "execution_count": 19,
   "id": "9a9208eb",
   "metadata": {},
   "outputs": [
    {
     "name": "stdout",
     "output_type": "stream",
     "text": [
      "Found 12024 images belonging to 24 classes.\n",
      "Found 2400 images belonging to 24 classes.\n"
     ]
    }
   ],
   "source": [
    "train_path1 = r'data2\\train'\n",
    "test_path1 = r'data2\\test'\n",
    "train_batches1 = ImageDataGenerator(preprocessing_function=tf.keras.applications.vgg16.preprocess_input).flow_from_directory(directory=train_path1, target_size=(128,128), class_mode='categorical', batch_size=10,shuffle=True)\n",
    "test_batches1 = ImageDataGenerator(preprocessing_function=tf.keras.applications.vgg16.preprocess_input).flow_from_directory(directory=test_path1, target_size=(128,128), class_mode='categorical', batch_size=10, shuffle=True)\n",
    "imgs1, labels1 = next(train_batches1) # returns the next 5 images in the shuffled training dataset"
   ]
  },
  {
   "cell_type": "code",
   "execution_count": 69,
   "id": "cf5788c5",
   "metadata": {},
   "outputs": [
    {
     "name": "stderr",
     "output_type": "stream",
     "text": [
      "Clipping input data to the valid range for imshow with RGB data ([0..1] for floats or [0..255] for integers).\n",
      "Clipping input data to the valid range for imshow with RGB data ([0..1] for floats or [0..255] for integers).\n",
      "Clipping input data to the valid range for imshow with RGB data ([0..1] for floats or [0..255] for integers).\n",
      "Clipping input data to the valid range for imshow with RGB data ([0..1] for floats or [0..255] for integers).\n",
      "Clipping input data to the valid range for imshow with RGB data ([0..1] for floats or [0..255] for integers).\n"
     ]
    },
    {
     "data": {
      "image/png": "[encoded data removed]",
      "text/plain": [
       "<Figure size 2160x1440 with 5 Axes>"
      ]
     },
     "metadata": {
      "needs_background": "light"
     },
     "output_type": "display_data"
    },
    {
     "name": "stdout",
     "output_type": "stream",
     "text": [
      "(10, 128, 128, 3)\n",
      "[[0. 0. 0. 1. 0. 0. 0. 0. 0. 0. 0. 0. 0. 0. 0. 0. 0. 0. 0. 0. 0. 0. 0. 0.]\n",
      " [0. 0. 0. 0. 0. 0. 0. 1. 0. 0. 0. 0. 0. 0. 0. 0. 0. 0. 0. 0. 0. 0. 0. 0.]\n",
      " [0. 0. 0. 1. 0. 0. 0. 0. 0. 0. 0. 0. 0. 0. 0. 0. 0. 0. 0. 0. 0. 0. 0. 0.]\n",
      " [0. 0. 0. 0. 0. 0. 0. 0. 0. 0. 0. 0. 0. 0. 0. 1. 0. 0. 0. 0. 0. 0. 0. 0.]\n",
      " [0. 0. 0. 0. 0. 0. 0. 0. 1. 0. 0. 0. 0. 0. 0. 0. 0. 0. 0. 0. 0. 0. 0. 0.]]\n"
     ]
    }
   ],
   "source": [
    "showBatch1(imgs1)\n",
    "print(imgs1.shape)\n",
    "print(labels1[0:5])"
   ]
  },
  {
   "cell_type": "code",
   "execution_count": 21,
   "id": "81311586",
   "metadata": {},
   "outputs": [],
   "source": [
    "modelx = Sequential() #initialising a sequential model to store layers of tensors\n",
    "\n",
    "'''Keras Conv2D is a 2D Convolution Layer, this layer creates a convolution kernel that is wind with layers input \n",
    "which helps produce a tensor of outputs.\n",
    "\n",
    "Kernel: In image processing kernel is a convolution matrix or a mask which can be used for blurring, \n",
    "sharpening, embossing, edge detection, and more by doing a convolution between a kernel and an image.'''\n",
    "\n",
    "modelx.add(Conv2D(filters=64, kernel_size=(3, 3), activation='relu', input_shape=(128,128,3)))\n",
    "modelx.add(MaxPool2D(pool_size=(2, 2), strides=2))\n",
    "modelx.add(Conv2D(filters=128, kernel_size=(3, 3), activation='relu', padding = 'same'))\n",
    "modelx.add(MaxPool2D(pool_size=(2, 2), strides=2))\n",
    "modelx.add(Conv2D(filters=256, kernel_size=(3, 3), activation='relu', padding = 'valid'))\n",
    "modelx.add(MaxPool2D(pool_size=(2, 2), strides=2))\n",
    "modelx.add(Flatten())\n",
    "modelx.add(Dense(128,activation =\"relu\"))\n",
    "modelx.add(Dense(256,activation =\"relu\"))\n",
    "modelx.add(Dense(256,activation =\"relu\"))\n",
    "modelx.add(Dense(classes,activation =\"softmax\"))"
   ]
  },
  {
   "cell_type": "markdown",
   "id": "6d859220",
   "metadata": {},
   "source": [
    "#### SGD Gradient Descent\n",
    "Validation accuracy: 96.96%, 3 epochs"
   ]
  },
  {
   "cell_type": "code",
   "execution_count": 22,
   "id": "a310466d",
   "metadata": {},
   "outputs": [
    {
     "name": "stdout",
     "output_type": "stream",
     "text": [
      "Epoch 1/3\n",
      "1203/1203 [==============================] - 818s 680ms/step - loss: 0.2421 - accuracy: 0.9705 - val_loss: 0.1099 - val_accuracy: 0.9692\n",
      "Epoch 2/3\n",
      "1203/1203 [==============================] - 808s 672ms/step - loss: 6.6163e-04 - accuracy: 1.0000 - val_loss: 0.1030 - val_accuracy: 0.9704\n",
      "Epoch 3/3\n",
      "1203/1203 [==============================] - 732s 609ms/step - loss: 3.2849e-04 - accuracy: 1.0000 - val_loss: 0.1025 - val_accuracy: 0.9696\n",
      "loss of 0.00673780869692564; accuracy of 100.0%\n"
     ]
    }
   ],
   "source": [
    "modelx.compile(optimizer=SGD(learning_rate=0.001), loss='categorical_crossentropy', metrics=['accuracy'])\n",
    "reduce_lr = ReduceLROnPlateau(monitor='val_loss', factor=0.2, patience=1, min_lr=0.0005)\n",
    "early_stop = EarlyStopping(monitor='val_loss', min_delta=0, patience=2, verbose=0, mode='auto')\n",
    "\n",
    "\n",
    "history2 = modelx.fit(train_batches1, epochs=3, callbacks=[reduce_lr, early_stop],  validation_data = test_batches1)#, checkpoint])\n",
    "imgs1, labels1 = next(train_batches1) # For getting next batch of train images\n",
    "\n",
    "imgs1, labels1 = next(test_batches1) # For getting next batch of test images\n",
    "scores = modelx.evaluate(imgs1, labels1, verbose=0)\n",
    "print(f'{modelx.metrics_names[0]} of {scores[0]}; {modelx.metrics_names[1]} of {scores[1]*100}%')"
   ]
  },
  {
   "cell_type": "code",
   "execution_count": 24,
   "id": "7dde3e64",
   "metadata": {},
   "outputs": [],
   "source": [
    "modelx.save('cse3013_CNN2.h5')"
   ]
  },
  {
   "cell_type": "code",
   "execution_count": 25,
   "id": "69006248",
   "metadata": {},
   "outputs": [
    {
     "name": "stdout",
     "output_type": "stream",
     "text": [
      "Model: \"sequential_2\"\n",
      "_________________________________________________________________\n",
      "Layer (type)                 Output Shape              Param #   \n",
      "=================================================================\n",
      "conv2d_6 (Conv2D)            (None, 126, 126, 64)      1792      \n",
      "_________________________________________________________________\n",
      "max_pooling2d_6 (MaxPooling2 (None, 63, 63, 64)        0         \n",
      "_________________________________________________________________\n",
      "conv2d_7 (Conv2D)            (None, 63, 63, 128)       73856     \n",
      "_________________________________________________________________\n",
      "max_pooling2d_7 (MaxPooling2 (None, 31, 31, 128)       0         \n",
      "_________________________________________________________________\n",
      "conv2d_8 (Conv2D)            (None, 29, 29, 256)       295168    \n",
      "_________________________________________________________________\n",
      "max_pooling2d_8 (MaxPooling2 (None, 14, 14, 256)       0         \n",
      "_________________________________________________________________\n",
      "flatten_2 (Flatten)          (None, 50176)             0         \n",
      "_________________________________________________________________\n",
      "dense_8 (Dense)              (None, 128)               6422656   \n",
      "_________________________________________________________________\n",
      "dense_9 (Dense)              (None, 256)               33024     \n",
      "_________________________________________________________________\n",
      "dense_10 (Dense)             (None, 256)               65792     \n",
      "_________________________________________________________________\n",
      "dense_11 (Dense)             (None, 24)                6168      \n",
      "=================================================================\n",
      "Total params: 6,898,456\n",
      "Trainable params: 6,898,456\n",
      "Non-trainable params: 0\n",
      "_________________________________________________________________\n"
     ]
    }
   ],
   "source": [
    "modelx.summary()"
   ]
  },
  {
   "cell_type": "markdown",
   "id": "ff6ddc05",
   "metadata": {},
   "source": [
    "### Recording a key with sign language"
   ]
  },
  {
   "cell_type": "code",
   "execution_count": 5,
   "id": "88f90c15",
   "metadata": {},
   "outputs": [
    {
     "name": "stdout",
     "output_type": "stream",
     "text": [
      "['A', 'B', 'C', 'D', 'E', 'F', 'G', 'H', 'I', 'K', 'L', 'M', 'N', 'O', 'P', 'Q', 'R', 'S', 'T', 'U', 'V', 'W', 'X', 'Y']\n"
     ]
    }
   ],
   "source": [
    "class_names = [x[0][-1] if x[0][-2]=='\\\\' else '' for x in os.walk('data2/train')][1:]\n",
    "print(class_names)"
   ]
  },
  {
   "cell_type": "code",
   "execution_count": 6,
   "id": "e98ddbc3",
   "metadata": {},
   "outputs": [],
   "source": [
    "model = keras.models.load_model(r\"cse3013_CNN2.h5\")"
   ]
  },
  {
   "cell_type": "code",
   "execution_count": 10,
   "id": "164c7115",
   "metadata": {},
   "outputs": [
    {
     "name": "stdout",
     "output_type": "stream",
     "text": [
      "Instructions\n",
      "\n",
      "1. To start storing new key, press 1\n",
      "    a) Let the camera accumulate the background\n",
      "    b) Make gesture\n",
      "    c) Once content with the output, press Enter to append the predicted character to the key being built\n",
      "    d) Repeat 'b' and 'c' to add more characters in the key\n",
      "    e) To delete a character, press Backspace\n",
      "    f) To store key thus formed, press Escape\n",
      "Press enter to continue\n",
      "\n",
      "\n",
      "breaking loop\n"
     ]
    }
   ],
   "source": [
    "print('Instructions')\n",
    "print(\"\"\"\n",
    "1. To start storing new key, press 1\n",
    "    a) Let the camera accumulate the background\n",
    "    b) Make gesture\n",
    "    c) Once content with the output, press Enter to append the predicted character to the key being built\n",
    "    d) Repeat 'b' and 'c' to add more characters in the key\n",
    "    e) To delete a character, press Backspace\n",
    "    f) To store key thus formed, press Escape\n",
    "Press enter to continue\n",
    "\"\"\")\n",
    "#1 if storing key\n",
    "x = input()\n",
    "string = ''\n",
    "cam = cv2.VideoCapture(0)\n",
    "num_frames =0\n",
    "while True:\n",
    "    ret, frame = cam.read()\n",
    "\n",
    "    # filpping the frame to prevent inverted image of captured frame...\n",
    "    frame = cv2.flip(frame, 1)\n",
    "\n",
    "    frame_copy = frame.copy()\n",
    "\n",
    "    # ROI from the frame\n",
    "    roi = frame[ROI['top']:ROI['bottom'], ROI['right']:ROI['left']]\n",
    "\n",
    "    gray_frame = cv2.cvtColor(roi, cv2.COLOR_BGR2GRAY)\n",
    "    gray_frame = cv2.GaussianBlur(gray_frame, (9, 9), 0)\n",
    "    cv2.putText(frame_copy, \"CSE3013 J Component - Sign Language Detection & Recognition\", (10, 20), cv2.FONT_ITALIC, 0.5, (51,255,51), 1)\n",
    "    cv2.imshow(\"Sign Detection\", frame_copy)\n",
    "    cv2.rectangle(frame_copy, (ROI['left'], ROI['top']), (ROI['right'], ROI['bottom']), (255,128,0), 3)\n",
    "    \n",
    "    ele0 = cv2.waitKey(1) & 0xFF\n",
    "    if ele0==27: #break loop for escape\n",
    "        print(\"breaking loop\")\n",
    "        break\n",
    "    element = chr(ele0)\n",
    "    #element = 'A'\n",
    "    num_imgs_taken = 0\n",
    "    #print(chr(ele0),ele0) if ele0!=255 else print(end=\"\")\n",
    "    while chr(ele0)=='1':\n",
    "        ret, frame = cam.read()\n",
    "\n",
    "        # filpping the frame to prevent inverted image of captured frame...\n",
    "        frame = cv2.flip(frame, 1)\n",
    "\n",
    "        frame_copy = frame.copy()\n",
    "\n",
    "        # ROI from the frame\n",
    "        roi = frame[ROI['top']:ROI['bottom'], ROI['right']:ROI['left']]\n",
    "\n",
    "        gray_frame = cv2.cvtColor(roi, cv2.COLOR_BGR2GRAY)\n",
    "        gray_frame = cv2.GaussianBlur(gray_frame, (9, 9), 0)\n",
    "\n",
    "\n",
    "        if num_frames < 70:\n",
    "\n",
    "            calc_background(gray_frame, alpha)\n",
    "\n",
    "            cv2.putText(frame_copy, \"Wait while Background is being recorded\", (80, 400), cv2.FONT_HERSHEY_SIMPLEX, 0.9, (0,0,255), 2)\n",
    "\n",
    "        else: \n",
    "            # segmenting the hand region\n",
    "            hand = detect_hand(gray_frame)\n",
    "\n",
    "\n",
    "            # Checking for hand\n",
    "            if hand is not None:\n",
    "\n",
    "                thresholded, hand_segment = hand\n",
    "\n",
    "                # Drawing contours around hand segment\n",
    "                cv2.drawContours(frame_copy, [hand_segment + (ROI['right'], ROI['top'])], -1, (255, 0, 0),1)\n",
    "\n",
    "                cv2.imshow(\"Thresholded Hand Image\", thresholded)\n",
    "\n",
    "                thresholded = cv2.resize(thresholded, (128, 128))\n",
    "                thresholded = cv2.cvtColor(thresholded, cv2.COLOR_GRAY2RGB)\n",
    "                thresholded = np.reshape(thresholded, (1,thresholded.shape[0],thresholded.shape[1],3))\n",
    "\n",
    "                pred = model.predict(thresholded)\n",
    "                cv2.putText(frame_copy, class_names[np.argmax(pred)], (170, 45), cv2.FONT_HERSHEY_SIMPLEX, 1, (0,0,255), 2)\n",
    "                ele1=cv2.waitKey(1) & 0xFF\n",
    "                if ele1==13: #enter key\n",
    "                    string+=class_names[np.argmax(pred)]\n",
    "                    #print(\"Enter\",string)\n",
    "                if ele1==8 and len(string)>=1: #backspace\n",
    "                    string = string[:-1]\n",
    "                    #print(\"Backspace\",string)\n",
    "                if ele1==27:\n",
    "                    break\n",
    "            if len(string)>0:\n",
    "                cv2.putText(frame_copy, \"Key: \"+str('*'*(len(string)-1)+string[-1]), (80, 400), cv2.FONT_HERSHEY_SIMPLEX, 0.9, (0,0,255), 2)\n",
    "\n",
    "        # Draw ROI on frame_copy\n",
    "        cv2.rectangle(frame_copy, (ROI['left'], ROI['top']), (ROI['right'], ROI['bottom']), (0,255,168), 3)\n",
    "        \n",
    "        # incrementing the number of frames for collecting background\n",
    "        if num_frames<=70:\n",
    "            num_frames += 1\n",
    "\n",
    "        # Display the frame with detected hand\n",
    "        cv2.putText(frame_copy, \"CSE3013 J Component - Sign Language Detection & Recognition\", (10, 20), cv2.FONT_ITALIC, 0.5, (51,255,51), 1)\n",
    "        cv2.imshow(\"Sign Detection\", frame_copy)\n",
    "\n",
    "\n",
    "        # Close windows with Escape key\n",
    "        k = cv2.waitKey(1) & 0xFF\n",
    "\n",
    "        if k == 27:\n",
    "            break\n",
    "    if len(string)>0:\n",
    "        #write to file\n",
    "        cv2.putText(frame_copy, \"Writing to file\", (80, 400), cv2.FONT_HERSHEY_SIMPLEX, 0.9, (0,0,255), 2)\n",
    "        time.sleep(1)\n",
    "        file1 = open(\"key.txt\", \"w\") \n",
    "        file1.write(string)\n",
    "        file1.close()\n",
    "        string=\"\"\n",
    "    background=None\n",
    "    num_frames = 0\n",
    "    k = cv2.waitKey(1) & 0xFF\n",
    "\n",
    "    if k == 27:\n",
    "        break\n",
    "\n",
    "# Release the camera and destroy all the windows\n",
    "cam.release()\n",
    "cv2.destroyAllWindows()"
   ]
  },
  {
   "cell_type": "code",
   "execution_count": 6,
   "id": "77c15727",
   "metadata": {},
   "outputs": [],
   "source": [
    "cam.release()\n",
    "cv2.destroyAllWindows()"
   ]
  },
  {
   "cell_type": "code",
   "execution_count": null,
   "id": "0ee99fd8",
   "metadata": {},
   "outputs": [],
   "source": []
  }
 ],
 "metadata": {
  "kernelspec": {
   "display_name": "Python 3",
   "language": "python",
   "name": "python3"
  },
  "language_info": {
   "codemirror_mode": {
    "name": "ipython",
    "version": 3
   },
   "file_extension": ".py",
   "mimetype": "text/x-python",
   "name": "python",
   "nbconvert_exporter": "python",
   "pygments_lexer": "ipython3",
   "version": "3.8.8"
  },
  "latex_envs": {
   "LaTeX_envs_menu_present": true,
   "autoclose": false,
   "autocomplete": true,
   "bibliofile": "biblio.bib",
   "cite_by": "apalike",
   "current_citInitial": 1,
   "eqLabelWithNumbers": true,
   "eqNumInitial": 1,
   "hotkeys": {
    "equation": "Ctrl-E",
    "itemize": "Ctrl-I"
   },
   "labels_anchors": false,
   "latex_user_defs": false,
   "report_style_numbering": false,
   "user_envs_cfg": false
  }
 },
 "nbformat": 4,
 "nbformat_minor": 5
}
